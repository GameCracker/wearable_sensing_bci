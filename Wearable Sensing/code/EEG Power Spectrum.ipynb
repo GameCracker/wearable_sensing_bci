{
 "cells": [
  {
   "cell_type": "code",
   "execution_count": 2,
   "metadata": {},
   "outputs": [],
   "source": [
    "import pandas as pd\n",
    "import numpy as np\n",
    "import matplotlib.pyplot as plt\n",
    "import mne\n",
    "\n",
    "import os"
   ]
  },
  {
   "cell_type": "code",
   "execution_count": 3,
   "metadata": {},
   "outputs": [],
   "source": [
    "df = pd.read_csv('Data/7152018_kelly_csv_3_raw.csv', comment='#')"
   ]
  },
  {
   "cell_type": "code",
   "execution_count": 4,
   "metadata": {},
   "outputs": [
    {
     "data": {
      "text/plain": [
       "Index([u'Time', u'P3', u'C3', u'F3', u'Fz', u'F4', u'C4', u'P4', u'Cz', u'CM',\n",
       "       u'A1', u'Fp1', u'Fp2', u'T3', u'T5', u'O1', u'O2', u'X3', u'X2', u'F7',\n",
       "       u'F8', u'X1', u'A2', u'T6', u'T4', u'Trigger', u'Time_Offset',\n",
       "       u'ADC_Status', u'ADC_Sequence', u'Event', u'Comments'],\n",
       "      dtype='object')"
      ]
     },
     "execution_count": 4,
     "metadata": {},
     "output_type": "execute_result"
    }
   ],
   "source": [
    "df.columns"
   ]
  },
  {
   "cell_type": "code",
   "execution_count": 5,
   "metadata": {},
   "outputs": [],
   "source": [
    "electrode_col_names = [u'P3', u'C3', u'F3', u'Fz', u'F4', u'C4', u'P4', u'Cz', u'CM',\n",
    "       u'A1', u'Fp1', u'Fp2', u'T3', u'T5', u'O1', u'O2', u'X3', u'X2', u'F7',\n",
    "       u'F8', u'X1', u'A2', u'T6', u'T4']"
   ]
  },
  {
   "cell_type": "code",
   "execution_count": 6,
   "metadata": {},
   "outputs": [
    {
     "name": "stderr",
     "output_type": "stream",
     "text": [
      "/usr/local/lib/python2.7/dist-packages/pandas/core/computation/check.py:17: UserWarning: The installed version of numexpr 2.4.3 is not supported in pandas and will be not be used\n",
      "The minimum supported version is 2.4.6\n",
      "\n",
      "  ver=ver, min_ver=_MIN_NUMEXPR_VERSION), UserWarning)\n"
     ]
    }
   ],
   "source": [
    "for electrode_col_name in electrode_col_names:\n",
    "    df['d' + electrode_col_name + '-A1'] = df[electrode_col_name] - df['A1']"
   ]
  },
  {
   "cell_type": "code",
   "execution_count": 12,
   "metadata": {},
   "outputs": [],
   "source": [
    "d_electrode_col_names = ['d' + electrode_col_name + '-A1' for electrode_col_name in electrode_col_names]"
   ]
  },
  {
   "cell_type": "code",
   "execution_count": 8,
   "metadata": {},
   "outputs": [
    {
     "data": {
      "text/plain": [
       "<matplotlib.axes._subplots.AxesSubplot at 0x7f05e3d750d0>"
      ]
     },
     "execution_count": 8,
     "metadata": {},
     "output_type": "execute_result"
    },
    {
     "data": {
      "image/png": "[encoded data removed]",
      "text/plain": [
       "<matplotlib.figure.Figure at 0x7f05c1496790>"
      ]
     },
     "metadata": {},
     "output_type": "display_data"
    }
   ],
   "source": [
    "df['dCz-A1'].plot()"
   ]
  },
  {
   "cell_type": "code",
   "execution_count": 21,
   "metadata": {},
   "outputs": [],
   "source": [
    "from numpy.fft import fft, fftshift\n",
    "import scipy.signal"
   ]
  },
  {
   "cell_type": "code",
   "execution_count": 64,
   "metadata": {},
   "outputs": [],
   "source": [
    "data_dict = {'time' : [], 'electrode' : [], 'frequency' : [], 'power' : []}\n",
    "# for col_name in d_electrode_col_names:\n",
    "#     if col != 'dA1-A1':\n",
    "#         for frequency_hz in range(30):\n",
    "#             data_dict[col_name + '_' + str(frequency_hz) + 'Hz'] = []\n",
    "\n",
    "for index, row in df.iterrows():\n",
    "    # Grab out trailing 1second window, i.e. 300 samples since we are sampling at 300Hz.\n",
    "    if index <= 300:\n",
    "        continue\n",
    "    \n",
    "    time = row['Time']\n",
    "    \n",
    "    if index % 100 == 0:\n",
    "        window_starting_index = index - 300\n",
    "        window = df[(df.index > window_starting_index) & (df.index <= index)]\n",
    "\n",
    "        for col in d_electrode_col_names:\n",
    "            if col != 'dA1-A1':\n",
    "                \n",
    "                window_col = [float(x) for x in window[col].values]\n",
    "                f, Pxx_den = scipy.signal.periodogram(window_col, 300)\n",
    "                \n",
    "                power_by_bands = {}\n",
    "                power_by_bands['theta'] = sum([Pxx_den[frequency_hz] for frequency_hz in range(4,8)])\n",
    "                power_by_bands['alpha'] = sum([Pxx_den[frequency_hz] for frequency_hz in range(8,16)])\n",
    "                power_by_bands['beta'] = sum([Pxx_den[frequency_hz] for frequency_hz in range(16,32)])\n",
    "                power_by_bands['gamma'] = sum([Pxx_den[frequency_hz] for frequency_hz in range(32,64)])\n",
    "                \n",
    "                for frequency_band in ['theta', 'alpha', 'beta', 'gamma']:\n",
    "                    data_dict['time'].append(time)\n",
    "                    data_dict['electrode'].append(col)\n",
    "                    data_dict['frequency'].append(frequency_band)\n",
    "                    data_dict['power'].append(power_by_bands[frequency_band])\n",
    "                    \n",
    "#             plt.semilogy(f, Pxx_den)\n",
    "#     #         plt.ylim([1e-7, 1e2])\n",
    "#             plt.xlabel('frequency [Hz]')\n",
    "#             plt.ylabel('PSD [V**2/Hz]')\n",
    "#             plt.savefig('figs/' + col + '_' + str(index) + '.png')\n",
    "#             plt.close('all')"
   ]
  },
  {
   "cell_type": "code",
   "execution_count": 69,
   "metadata": {},
   "outputs": [],
   "source": [
    "data_df = pd.DataFrame(data_dict)\n",
    "data_df = data_df[data_df['time'] <= 10]\n",
    "data_df = data_df.set_index(['time','electrode','frequency'])"
   ]
  },
  {
   "cell_type": "code",
   "execution_count": 70,
   "metadata": {},
   "outputs": [],
   "source": [
    "import xarray as xr\n",
    "dataset = xr.Dataset.from_dataframe(data_df)"
   ]
  },
  {
   "cell_type": "code",
   "execution_count": 72,
   "metadata": {},
   "outputs": [
    {
     "data": {
      "text/plain": [
       "array([u'dA2-A1', u'dC3-A1', u'dC4-A1', u'dCM-A1', u'dCz-A1', u'dF3-A1',\n",
       "       u'dF4-A1', u'dF7-A1', u'dF8-A1', u'dFp1-A1', u'dFp2-A1', u'dFz-A1',\n",
       "       u'dO1-A1', u'dO2-A1', u'dP3-A1', u'dP4-A1', u'dT3-A1', u'dT4-A1',\n",
       "       u'dT5-A1', u'dT6-A1', u'dX1-A1', u'dX2-A1', u'dX3-A1'],\n",
       "      dtype=object)"
      ]
     },
     "execution_count": 72,
     "metadata": {},
     "output_type": "execute_result"
    }
   ],
   "source": [
    "dataset.electrode.values"
   ]
  },
  {
   "cell_type": "code",
   "execution_count": 77,
   "metadata": {},
   "outputs": [
    {
     "data": {
      "text/plain": [
       "<matplotlib.axes._subplots.AxesSubplot at 0x7f04f3bfa090>"
      ]
     },
     "execution_count": 77,
     "metadata": {},
     "output_type": "execute_result"
    },
    {
     "data": {
      "image/png": "[encoded data removed]",
      "text/plain": [
       "<matplotlib.figure.Figure at 0x7f04f3b4ebd0>"
      ]
     },
     "metadata": {},
     "output_type": "display_data"
    }
   ],
   "source": [
    "dataset.sel(electrode='dP3-A1',frequency='theta').to_dataframe()['power'].plot()"
   ]
  }
 ],
 "metadata": {
  "kernelspec": {
   "display_name": "Python 2",
   "language": "python",
   "name": "python2"
  },
  "language_info": {
   "codemirror_mode": {
    "name": "ipython",
    "version": 2
   },
   "file_extension": ".py",
   "mimetype": "text/x-python",
   "name": "python",
   "nbconvert_exporter": "python",
   "pygments_lexer": "ipython2",
   "version": "2.7.12"
  }
 },
 "nbformat": 4,
 "nbformat_minor": 2
}
